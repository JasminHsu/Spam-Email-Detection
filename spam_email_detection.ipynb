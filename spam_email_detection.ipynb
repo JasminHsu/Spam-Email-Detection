{
  "nbformat": 4,
  "nbformat_minor": 0,
  "metadata": {
    "colab": {
      "name": "Predictive_HW3_Q2.ipynb",
      "provenance": []
    },
    "kernelspec": {
      "name": "python3",
      "display_name": "Python 3"
    },
    "language_info": {
      "name": "python"
    }
  },
  "cells": [
    {
      "cell_type": "code",
      "execution_count": 7,
      "metadata": {
        "id": "0F1QSnBBrH_6"
      },
      "outputs": [],
      "source": [
        "import numpy as np\n",
        "import pandas as pd\n",
        "import matplotlib.pyplot as plt\n",
        "\n",
        "from sklearn.model_selection import train_test_split, KFold, GridSearchCV, cross_val_score\n",
        "from sklearn.tree import DecisionTreeClassifier\n",
        "from sklearn.linear_model import LogisticRegression\n",
        "from sklearn.neighbors import KNeighborsClassifier\n",
        "from sklearn import preprocessing, metrics\n",
        "from sklearn.svm import SVC\n",
        "from sklearn.preprocessing import MinMaxScaler\n",
        "from sklearn.metrics import accuracy_score, confusion_matrix, classification_report, make_scorer\n",
        "from lightgbm import LGBMClassifier\n",
        "\n",
        "%matplotlib inline"
      ]
    },
    {
      "cell_type": "code",
      "source": [
        "import warnings\n",
        "warnings.filterwarnings('ignore')"
      ],
      "metadata": {
        "id": "yG_lPQ_iKvSP"
      },
      "execution_count": 8,
      "outputs": []
    },
    {
      "cell_type": "code",
      "source": [
        "names =  ['wf_make','wf_address','wf_all','wf_3d','wf_our','wf_over','wf_remove','wf_internet','wf_order','wf_mail',\n",
        "              'wf_receive','wf_will','wf_people','wf_report','wf_addresses','wf_free','wf_business','wf_email','wf_you',\n",
        "              'wf_credit','wf_your','wf_font','wf_000','wf_money','wf_hp','wf_hpl','wf_george','wf_650','wf_lab','wf_labs',\n",
        "             'wf_telnet','wf_857','wf_data','wf_415','wf_85','wf_technology','wf_1999','wf_parts','wf_pm','wf_direct',\n",
        "              'wf_cs','wf_meeting','wf_original','wf_project','wf_re','wf_edu','wf_table','wf_conference','wf_;','wf_(',\n",
        "             'wf_[','wf_!','wf_$','wf_#','wf','crl_average','crl_longest','crl_total']\n",
        "df = pd.read_csv('/content/spambase.data', header=None, names=names)"
      ],
      "metadata": {
        "id": "VIvid63BuB66"
      },
      "execution_count": 9,
      "outputs": []
    },
    {
      "cell_type": "code",
      "source": [
        "df.head()"
      ],
      "metadata": {
        "colab": {
          "base_uri": "https://localhost:8080/",
          "height": 297
        },
        "id": "wnqfeg5BvT8x",
        "outputId": "6f8cbc99-3a35-4861-b8d6-deeed535460b"
      },
      "execution_count": 10,
      "outputs": [
        {
          "output_type": "execute_result",
          "data": {
            "text/plain": [
              "   wf_make  wf_address  wf_all  wf_3d  wf_our  wf_over  wf_remove  \\\n",
              "0     0.00        0.64    0.64    0.0    0.32     0.00       0.00   \n",
              "1     0.21        0.28    0.50    0.0    0.14     0.28       0.21   \n",
              "2     0.06        0.00    0.71    0.0    1.23     0.19       0.19   \n",
              "3     0.00        0.00    0.00    0.0    0.63     0.00       0.31   \n",
              "4     0.00        0.00    0.00    0.0    0.63     0.00       0.31   \n",
              "\n",
              "   wf_internet  wf_order  wf_mail  ...  wf_;   wf_(  wf_[   wf_!   wf_$  \\\n",
              "0         0.00      0.00     0.00  ...  0.00  0.000   0.0  0.778  0.000   \n",
              "1         0.07      0.00     0.94  ...  0.00  0.132   0.0  0.372  0.180   \n",
              "2         0.12      0.64     0.25  ...  0.01  0.143   0.0  0.276  0.184   \n",
              "3         0.63      0.31     0.63  ...  0.00  0.137   0.0  0.137  0.000   \n",
              "4         0.63      0.31     0.63  ...  0.00  0.135   0.0  0.135  0.000   \n",
              "\n",
              "    wf_#     wf  crl_average  crl_longest  crl_total  \n",
              "0  0.000  3.756           61          278          1  \n",
              "1  0.048  5.114          101         1028          1  \n",
              "2  0.010  9.821          485         2259          1  \n",
              "3  0.000  3.537           40          191          1  \n",
              "4  0.000  3.537           40          191          1  \n",
              "\n",
              "[5 rows x 58 columns]"
            ],
            "text/html": [
              "\n",
              "  <div id=\"df-8934fc69-807c-49c6-afe4-1d908ec08dff\">\n",
              "    <div class=\"colab-df-container\">\n",
              "      <div>\n",
              "<style scoped>\n",
              "    .dataframe tbody tr th:only-of-type {\n",
              "        vertical-align: middle;\n",
              "    }\n",
              "\n",
              "    .dataframe tbody tr th {\n",
              "        vertical-align: top;\n",
              "    }\n",
              "\n",
              "    .dataframe thead th {\n",
              "        text-align: right;\n",
              "    }\n",
              "</style>\n",
              "<table border=\"1\" class=\"dataframe\">\n",
              "  <thead>\n",
              "    <tr style=\"text-align: right;\">\n",
              "      <th></th>\n",
              "      <th>wf_make</th>\n",
              "      <th>wf_address</th>\n",
              "      <th>wf_all</th>\n",
              "      <th>wf_3d</th>\n",
              "      <th>wf_our</th>\n",
              "      <th>wf_over</th>\n",
              "      <th>wf_remove</th>\n",
              "      <th>wf_internet</th>\n",
              "      <th>wf_order</th>\n",
              "      <th>wf_mail</th>\n",
              "      <th>...</th>\n",
              "      <th>wf_;</th>\n",
              "      <th>wf_(</th>\n",
              "      <th>wf_[</th>\n",
              "      <th>wf_!</th>\n",
              "      <th>wf_$</th>\n",
              "      <th>wf_#</th>\n",
              "      <th>wf</th>\n",
              "      <th>crl_average</th>\n",
              "      <th>crl_longest</th>\n",
              "      <th>crl_total</th>\n",
              "    </tr>\n",
              "  </thead>\n",
              "  <tbody>\n",
              "    <tr>\n",
              "      <th>0</th>\n",
              "      <td>0.00</td>\n",
              "      <td>0.64</td>\n",
              "      <td>0.64</td>\n",
              "      <td>0.0</td>\n",
              "      <td>0.32</td>\n",
              "      <td>0.00</td>\n",
              "      <td>0.00</td>\n",
              "      <td>0.00</td>\n",
              "      <td>0.00</td>\n",
              "      <td>0.00</td>\n",
              "      <td>...</td>\n",
              "      <td>0.00</td>\n",
              "      <td>0.000</td>\n",
              "      <td>0.0</td>\n",
              "      <td>0.778</td>\n",
              "      <td>0.000</td>\n",
              "      <td>0.000</td>\n",
              "      <td>3.756</td>\n",
              "      <td>61</td>\n",
              "      <td>278</td>\n",
              "      <td>1</td>\n",
              "    </tr>\n",
              "    <tr>\n",
              "      <th>1</th>\n",
              "      <td>0.21</td>\n",
              "      <td>0.28</td>\n",
              "      <td>0.50</td>\n",
              "      <td>0.0</td>\n",
              "      <td>0.14</td>\n",
              "      <td>0.28</td>\n",
              "      <td>0.21</td>\n",
              "      <td>0.07</td>\n",
              "      <td>0.00</td>\n",
              "      <td>0.94</td>\n",
              "      <td>...</td>\n",
              "      <td>0.00</td>\n",
              "      <td>0.132</td>\n",
              "      <td>0.0</td>\n",
              "      <td>0.372</td>\n",
              "      <td>0.180</td>\n",
              "      <td>0.048</td>\n",
              "      <td>5.114</td>\n",
              "      <td>101</td>\n",
              "      <td>1028</td>\n",
              "      <td>1</td>\n",
              "    </tr>\n",
              "    <tr>\n",
              "      <th>2</th>\n",
              "      <td>0.06</td>\n",
              "      <td>0.00</td>\n",
              "      <td>0.71</td>\n",
              "      <td>0.0</td>\n",
              "      <td>1.23</td>\n",
              "      <td>0.19</td>\n",
              "      <td>0.19</td>\n",
              "      <td>0.12</td>\n",
              "      <td>0.64</td>\n",
              "      <td>0.25</td>\n",
              "      <td>...</td>\n",
              "      <td>0.01</td>\n",
              "      <td>0.143</td>\n",
              "      <td>0.0</td>\n",
              "      <td>0.276</td>\n",
              "      <td>0.184</td>\n",
              "      <td>0.010</td>\n",
              "      <td>9.821</td>\n",
              "      <td>485</td>\n",
              "      <td>2259</td>\n",
              "      <td>1</td>\n",
              "    </tr>\n",
              "    <tr>\n",
              "      <th>3</th>\n",
              "      <td>0.00</td>\n",
              "      <td>0.00</td>\n",
              "      <td>0.00</td>\n",
              "      <td>0.0</td>\n",
              "      <td>0.63</td>\n",
              "      <td>0.00</td>\n",
              "      <td>0.31</td>\n",
              "      <td>0.63</td>\n",
              "      <td>0.31</td>\n",
              "      <td>0.63</td>\n",
              "      <td>...</td>\n",
              "      <td>0.00</td>\n",
              "      <td>0.137</td>\n",
              "      <td>0.0</td>\n",
              "      <td>0.137</td>\n",
              "      <td>0.000</td>\n",
              "      <td>0.000</td>\n",
              "      <td>3.537</td>\n",
              "      <td>40</td>\n",
              "      <td>191</td>\n",
              "      <td>1</td>\n",
              "    </tr>\n",
              "    <tr>\n",
              "      <th>4</th>\n",
              "      <td>0.00</td>\n",
              "      <td>0.00</td>\n",
              "      <td>0.00</td>\n",
              "      <td>0.0</td>\n",
              "      <td>0.63</td>\n",
              "      <td>0.00</td>\n",
              "      <td>0.31</td>\n",
              "      <td>0.63</td>\n",
              "      <td>0.31</td>\n",
              "      <td>0.63</td>\n",
              "      <td>...</td>\n",
              "      <td>0.00</td>\n",
              "      <td>0.135</td>\n",
              "      <td>0.0</td>\n",
              "      <td>0.135</td>\n",
              "      <td>0.000</td>\n",
              "      <td>0.000</td>\n",
              "      <td>3.537</td>\n",
              "      <td>40</td>\n",
              "      <td>191</td>\n",
              "      <td>1</td>\n",
              "    </tr>\n",
              "  </tbody>\n",
              "</table>\n",
              "<p>5 rows × 58 columns</p>\n",
              "</div>\n",
              "      <button class=\"colab-df-convert\" onclick=\"convertToInteractive('df-8934fc69-807c-49c6-afe4-1d908ec08dff')\"\n",
              "              title=\"Convert this dataframe to an interactive table.\"\n",
              "              style=\"display:none;\">\n",
              "        \n",
              "  <svg xmlns=\"http://www.w3.org/2000/svg\" height=\"24px\"viewBox=\"0 0 24 24\"\n",
              "       width=\"24px\">\n",
              "    <path d=\"M0 0h24v24H0V0z\" fill=\"none\"/>\n",
              "    <path d=\"M18.56 5.44l.94 2.06.94-2.06 2.06-.94-2.06-.94-.94-2.06-.94 2.06-2.06.94zm-11 1L8.5 8.5l.94-2.06 2.06-.94-2.06-.94L8.5 2.5l-.94 2.06-2.06.94zm10 10l.94 2.06.94-2.06 2.06-.94-2.06-.94-.94-2.06-.94 2.06-2.06.94z\"/><path d=\"M17.41 7.96l-1.37-1.37c-.4-.4-.92-.59-1.43-.59-.52 0-1.04.2-1.43.59L10.3 9.45l-7.72 7.72c-.78.78-.78 2.05 0 2.83L4 21.41c.39.39.9.59 1.41.59.51 0 1.02-.2 1.41-.59l7.78-7.78 2.81-2.81c.8-.78.8-2.07 0-2.86zM5.41 20L4 18.59l7.72-7.72 1.47 1.35L5.41 20z\"/>\n",
              "  </svg>\n",
              "      </button>\n",
              "      \n",
              "  <style>\n",
              "    .colab-df-container {\n",
              "      display:flex;\n",
              "      flex-wrap:wrap;\n",
              "      gap: 12px;\n",
              "    }\n",
              "\n",
              "    .colab-df-convert {\n",
              "      background-color: #E8F0FE;\n",
              "      border: none;\n",
              "      border-radius: 50%;\n",
              "      cursor: pointer;\n",
              "      display: none;\n",
              "      fill: #1967D2;\n",
              "      height: 32px;\n",
              "      padding: 0 0 0 0;\n",
              "      width: 32px;\n",
              "    }\n",
              "\n",
              "    .colab-df-convert:hover {\n",
              "      background-color: #E2EBFA;\n",
              "      box-shadow: 0px 1px 2px rgba(60, 64, 67, 0.3), 0px 1px 3px 1px rgba(60, 64, 67, 0.15);\n",
              "      fill: #174EA6;\n",
              "    }\n",
              "\n",
              "    [theme=dark] .colab-df-convert {\n",
              "      background-color: #3B4455;\n",
              "      fill: #D2E3FC;\n",
              "    }\n",
              "\n",
              "    [theme=dark] .colab-df-convert:hover {\n",
              "      background-color: #434B5C;\n",
              "      box-shadow: 0px 1px 3px 1px rgba(0, 0, 0, 0.15);\n",
              "      filter: drop-shadow(0px 1px 2px rgba(0, 0, 0, 0.3));\n",
              "      fill: #FFFFFF;\n",
              "    }\n",
              "  </style>\n",
              "\n",
              "      <script>\n",
              "        const buttonEl =\n",
              "          document.querySelector('#df-8934fc69-807c-49c6-afe4-1d908ec08dff button.colab-df-convert');\n",
              "        buttonEl.style.display =\n",
              "          google.colab.kernel.accessAllowed ? 'block' : 'none';\n",
              "\n",
              "        async function convertToInteractive(key) {\n",
              "          const element = document.querySelector('#df-8934fc69-807c-49c6-afe4-1d908ec08dff');\n",
              "          const dataTable =\n",
              "            await google.colab.kernel.invokeFunction('convertToInteractive',\n",
              "                                                     [key], {});\n",
              "          if (!dataTable) return;\n",
              "\n",
              "          const docLinkHtml = 'Like what you see? Visit the ' +\n",
              "            '<a target=\"_blank\" href=https://colab.research.google.com/notebooks/data_table.ipynb>data table notebook</a>'\n",
              "            + ' to learn more about interactive tables.';\n",
              "          element.innerHTML = '';\n",
              "          dataTable['output_type'] = 'display_data';\n",
              "          await google.colab.output.renderOutput(dataTable, element);\n",
              "          const docLink = document.createElement('div');\n",
              "          docLink.innerHTML = docLinkHtml;\n",
              "          element.appendChild(docLink);\n",
              "        }\n",
              "      </script>\n",
              "    </div>\n",
              "  </div>\n",
              "  "
            ]
          },
          "metadata": {},
          "execution_count": 10
        }
      ]
    },
    {
      "cell_type": "code",
      "source": [
        "# Checking null and missing values\n",
        "print(\"\\nNull Values:\\n\", df.isnull().sum())\n",
        "print(\"\\nMissing Values:\\n\", df.isna().sum())\n",
        "# No null or missing values"
      ],
      "metadata": {
        "colab": {
          "base_uri": "https://localhost:8080/"
        },
        "id": "nwmrcI7CvXpr",
        "outputId": "feba1e91-aab8-4bfe-eaa6-c2727538d122"
      },
      "execution_count": 11,
      "outputs": [
        {
          "output_type": "stream",
          "name": "stdout",
          "text": [
            "\n",
            "Null Values:\n",
            " wf_make          0\n",
            "wf_address       0\n",
            "wf_all           0\n",
            "wf_3d            0\n",
            "wf_our           0\n",
            "wf_over          0\n",
            "wf_remove        0\n",
            "wf_internet      0\n",
            "wf_order         0\n",
            "wf_mail          0\n",
            "wf_receive       0\n",
            "wf_will          0\n",
            "wf_people        0\n",
            "wf_report        0\n",
            "wf_addresses     0\n",
            "wf_free          0\n",
            "wf_business      0\n",
            "wf_email         0\n",
            "wf_you           0\n",
            "wf_credit        0\n",
            "wf_your          0\n",
            "wf_font          0\n",
            "wf_000           0\n",
            "wf_money         0\n",
            "wf_hp            0\n",
            "wf_hpl           0\n",
            "wf_george        0\n",
            "wf_650           0\n",
            "wf_lab           0\n",
            "wf_labs          0\n",
            "wf_telnet        0\n",
            "wf_857           0\n",
            "wf_data          0\n",
            "wf_415           0\n",
            "wf_85            0\n",
            "wf_technology    0\n",
            "wf_1999          0\n",
            "wf_parts         0\n",
            "wf_pm            0\n",
            "wf_direct        0\n",
            "wf_cs            0\n",
            "wf_meeting       0\n",
            "wf_original      0\n",
            "wf_project       0\n",
            "wf_re            0\n",
            "wf_edu           0\n",
            "wf_table         0\n",
            "wf_conference    0\n",
            "wf_;             0\n",
            "wf_(             0\n",
            "wf_[             0\n",
            "wf_!             0\n",
            "wf_$             0\n",
            "wf_#             0\n",
            "wf               0\n",
            "crl_average      0\n",
            "crl_longest      0\n",
            "crl_total        0\n",
            "dtype: int64\n",
            "\n",
            "Missing Values:\n",
            " wf_make          0\n",
            "wf_address       0\n",
            "wf_all           0\n",
            "wf_3d            0\n",
            "wf_our           0\n",
            "wf_over          0\n",
            "wf_remove        0\n",
            "wf_internet      0\n",
            "wf_order         0\n",
            "wf_mail          0\n",
            "wf_receive       0\n",
            "wf_will          0\n",
            "wf_people        0\n",
            "wf_report        0\n",
            "wf_addresses     0\n",
            "wf_free          0\n",
            "wf_business      0\n",
            "wf_email         0\n",
            "wf_you           0\n",
            "wf_credit        0\n",
            "wf_your          0\n",
            "wf_font          0\n",
            "wf_000           0\n",
            "wf_money         0\n",
            "wf_hp            0\n",
            "wf_hpl           0\n",
            "wf_george        0\n",
            "wf_650           0\n",
            "wf_lab           0\n",
            "wf_labs          0\n",
            "wf_telnet        0\n",
            "wf_857           0\n",
            "wf_data          0\n",
            "wf_415           0\n",
            "wf_85            0\n",
            "wf_technology    0\n",
            "wf_1999          0\n",
            "wf_parts         0\n",
            "wf_pm            0\n",
            "wf_direct        0\n",
            "wf_cs            0\n",
            "wf_meeting       0\n",
            "wf_original      0\n",
            "wf_project       0\n",
            "wf_re            0\n",
            "wf_edu           0\n",
            "wf_table         0\n",
            "wf_conference    0\n",
            "wf_;             0\n",
            "wf_(             0\n",
            "wf_[             0\n",
            "wf_!             0\n",
            "wf_$             0\n",
            "wf_#             0\n",
            "wf               0\n",
            "crl_average      0\n",
            "crl_longest      0\n",
            "crl_total        0\n",
            "dtype: int64\n"
          ]
        }
      ]
    },
    {
      "cell_type": "code",
      "source": [
        "df.info()"
      ],
      "metadata": {
        "colab": {
          "base_uri": "https://localhost:8080/"
        },
        "id": "faBTLKBYwedF",
        "outputId": "4ff18a28-f9a3-41f3-87be-16aa86652234"
      },
      "execution_count": 12,
      "outputs": [
        {
          "output_type": "stream",
          "name": "stdout",
          "text": [
            "<class 'pandas.core.frame.DataFrame'>\n",
            "RangeIndex: 4601 entries, 0 to 4600\n",
            "Data columns (total 58 columns):\n",
            " #   Column         Non-Null Count  Dtype  \n",
            "---  ------         --------------  -----  \n",
            " 0   wf_make        4601 non-null   float64\n",
            " 1   wf_address     4601 non-null   float64\n",
            " 2   wf_all         4601 non-null   float64\n",
            " 3   wf_3d          4601 non-null   float64\n",
            " 4   wf_our         4601 non-null   float64\n",
            " 5   wf_over        4601 non-null   float64\n",
            " 6   wf_remove      4601 non-null   float64\n",
            " 7   wf_internet    4601 non-null   float64\n",
            " 8   wf_order       4601 non-null   float64\n",
            " 9   wf_mail        4601 non-null   float64\n",
            " 10  wf_receive     4601 non-null   float64\n",
            " 11  wf_will        4601 non-null   float64\n",
            " 12  wf_people      4601 non-null   float64\n",
            " 13  wf_report      4601 non-null   float64\n",
            " 14  wf_addresses   4601 non-null   float64\n",
            " 15  wf_free        4601 non-null   float64\n",
            " 16  wf_business    4601 non-null   float64\n",
            " 17  wf_email       4601 non-null   float64\n",
            " 18  wf_you         4601 non-null   float64\n",
            " 19  wf_credit      4601 non-null   float64\n",
            " 20  wf_your        4601 non-null   float64\n",
            " 21  wf_font        4601 non-null   float64\n",
            " 22  wf_000         4601 non-null   float64\n",
            " 23  wf_money       4601 non-null   float64\n",
            " 24  wf_hp          4601 non-null   float64\n",
            " 25  wf_hpl         4601 non-null   float64\n",
            " 26  wf_george      4601 non-null   float64\n",
            " 27  wf_650         4601 non-null   float64\n",
            " 28  wf_lab         4601 non-null   float64\n",
            " 29  wf_labs        4601 non-null   float64\n",
            " 30  wf_telnet      4601 non-null   float64\n",
            " 31  wf_857         4601 non-null   float64\n",
            " 32  wf_data        4601 non-null   float64\n",
            " 33  wf_415         4601 non-null   float64\n",
            " 34  wf_85          4601 non-null   float64\n",
            " 35  wf_technology  4601 non-null   float64\n",
            " 36  wf_1999        4601 non-null   float64\n",
            " 37  wf_parts       4601 non-null   float64\n",
            " 38  wf_pm          4601 non-null   float64\n",
            " 39  wf_direct      4601 non-null   float64\n",
            " 40  wf_cs          4601 non-null   float64\n",
            " 41  wf_meeting     4601 non-null   float64\n",
            " 42  wf_original    4601 non-null   float64\n",
            " 43  wf_project     4601 non-null   float64\n",
            " 44  wf_re          4601 non-null   float64\n",
            " 45  wf_edu         4601 non-null   float64\n",
            " 46  wf_table       4601 non-null   float64\n",
            " 47  wf_conference  4601 non-null   float64\n",
            " 48  wf_;           4601 non-null   float64\n",
            " 49  wf_(           4601 non-null   float64\n",
            " 50  wf_[           4601 non-null   float64\n",
            " 51  wf_!           4601 non-null   float64\n",
            " 52  wf_$           4601 non-null   float64\n",
            " 53  wf_#           4601 non-null   float64\n",
            " 54  wf             4601 non-null   float64\n",
            " 55  crl_average    4601 non-null   int64  \n",
            " 56  crl_longest    4601 non-null   int64  \n",
            " 57  crl_total      4601 non-null   int64  \n",
            "dtypes: float64(55), int64(3)\n",
            "memory usage: 2.0 MB\n"
          ]
        }
      ]
    },
    {
      "cell_type": "markdown",
      "source": [
        "Split Data"
      ],
      "metadata": {
        "id": "mitjzcMMxNJL"
      }
    },
    {
      "cell_type": "code",
      "source": [
        "X = df.iloc[:,:-1]\n",
        "y = df.iloc[:,-1]\n",
        "X_train, X_test, y_train, y_test = train_test_split(X, y, test_size=0.33, random_state=42)"
      ],
      "metadata": {
        "id": "g6jMA2NCxOth"
      },
      "execution_count": 13,
      "outputs": []
    },
    {
      "cell_type": "markdown",
      "source": [
        "Normalization"
      ],
      "metadata": {
        "id": "D2UvpYmMxdeR"
      }
    },
    {
      "cell_type": "code",
      "source": [
        "scaler = MinMaxScaler()\n",
        "X_train_n = scaler.fit_transform(X_train)\n",
        "X_test_n = scaler.transform(X_test)"
      ],
      "metadata": {
        "id": "EgoFbAkfxe5M"
      },
      "execution_count": 14,
      "outputs": []
    },
    {
      "cell_type": "markdown",
      "source": [
        "# Modeling"
      ],
      "metadata": {
        "id": "HSAMIitg0LHD"
      }
    },
    {
      "cell_type": "markdown",
      "source": [
        "Nested CV"
      ],
      "metadata": {
        "id": "MH1T1uyz0R-u"
      }
    },
    {
      "cell_type": "code",
      "source": [
        "# Choose cross-validation techniques for the inner and outer loops, independently of the dataset\n",
        "inner_cv = KFold(n_splits=4, shuffle=True, random_state=42)\n",
        "outer_cv = KFold(n_splits=4, shuffle=True, random_state=42)"
      ],
      "metadata": {
        "id": "Z1YOvwNN0S8j"
      },
      "execution_count": 15,
      "outputs": []
    },
    {
      "cell_type": "code",
      "source": [
        "# Set up possible values of parameters for each model to optimize\n",
        "tree = DecisionTreeClassifier()\n",
        "param_dict_tree = {'criterion':['gini','entropy'], 'max_depth':range(1,10), \n",
        "                   'min_samples_leaf':range(1,5), 'min_samples_split':range(1,10)} \n",
        "\n",
        "knn =  KNeighborsClassifier()\n",
        "param_dict_knn = {'n_neighbors':list(range(1,31)), 'weights':['uniform', 'distance']}\n",
        "\n",
        "log = LogisticRegression()\n",
        "param_dict_log = {'C':[0.0001,0.001, 0.01, 1, 0.1, 10, 100, 1000], 'penalty':['l1','l2']}\n",
        "\n",
        "svm = SVC()\n",
        "param_dict_svm = {'C':[0.1,1,100], 'kernel':['rbf','linear','poly','sigmoid'], 'gamma':[1, 0.1, 0.01]}\n",
        "\n",
        "lgb = LGBMClassifier()\n",
        "param_dict_lgb = {'max_depth':[-1],'num_leaves':[22, 31],'learning_rate':[0.05,0.1,0.3]}"
      ],
      "metadata": {
        "id": "AqW0_CDC0m7p"
      },
      "execution_count": 16,
      "outputs": []
    },
    {
      "cell_type": "code",
      "source": [
        "clf_tree = GridSearchCV(estimator=tree, param_grid=param_dict_tree, scoring = 'accuracy', cv=inner_cv)\n",
        "clf_knn = GridSearchCV(estimator=knn, param_grid=param_dict_knn, scoring = 'accuracy', cv=inner_cv)\n",
        "clf_log = GridSearchCV(estimator=log, param_grid=param_dict_log, scoring = 'accuracy', cv=inner_cv)\n",
        "clf_svm = GridSearchCV(estimator=svm, param_grid=param_dict_svm, scoring = 'accuracy', cv=inner_cv)\n",
        "clf_lgb = GridSearchCV(estimator=lgb, param_grid=param_dict_lgb, scoring = 'accuracy', cv=inner_cv)\n",
        "\n",
        "score_tree = cross_val_score(clf_tree, X=X_train_n, y=y_train, cv=outer_cv)\n",
        "score_knn = cross_val_score(clf_knn, X=X_train_n, y=y_train, cv=outer_cv)\n",
        "score_log = cross_val_score(clf_log, X=X_train_n, y=y_train, cv=outer_cv)\n",
        "score_svm = cross_val_score(clf_svm, X=X_train_n, y=y_train, cv=outer_cv)\n",
        "score_lgb = cross_val_score(clf_lgb, X=X_train_n, y=y_train, cv=outer_cv)"
      ],
      "metadata": {
        "id": "K343HZ4n0nCP"
      },
      "execution_count": 17,
      "outputs": []
    },
    {
      "cell_type": "code",
      "source": [
        "score = {}\n",
        "\n",
        "score['tree'] = score_tree.mean()\n",
        "score['knn'] = score_knn.mean()\n",
        "score['logistic'] = score_log.mean()\n",
        "score['svm'] = score_svm.mean()\n",
        "score['lgb'] = score_lgb.mean()\n",
        "score"
      ],
      "metadata": {
        "colab": {
          "base_uri": "https://localhost:8080/"
        },
        "id": "6VfvVm-I0nJt",
        "outputId": "d6acce06-274b-4f81-8950-5344a721580e"
      },
      "execution_count": 18,
      "outputs": [
        {
          "output_type": "execute_result",
          "data": {
            "text/plain": [
              "{'knn': 0.8991017737126686,\n",
              " 'lgb': 0.9474413394646858,\n",
              " 'logistic': 0.9198641501170683,\n",
              " 'svm': 0.9237564640288376,\n",
              " 'tree': 0.9097941617396871}"
            ]
          },
          "metadata": {},
          "execution_count": 18
        }
      ]
    },
    {
      "cell_type": "markdown",
      "source": [
        "Result: we can see outcomes from nested CV that LightGBM performs best, hence we'll use LightGBM to proceed"
      ],
      "metadata": {
        "id": "HpRoIwLx92yn"
      }
    },
    {
      "cell_type": "markdown",
      "source": [
        "# LightGBM"
      ],
      "metadata": {
        "id": "ASauATow-Etb"
      }
    },
    {
      "cell_type": "code",
      "source": [
        "param_dict_lgb = {'max_depth':[-1],'num_leaves':[22, 31],'learning_rate':[0.05,0.1,0.3]}\n",
        "lgb = LGBMClassifier()\n",
        "\n",
        "# Create grid search using 5-fold cross validation\n",
        "grid_lgb = GridSearchCV(lgb, param_dict_lgb, cv=5, verbose=0)\n",
        "\n",
        "# Fit grid search\n",
        "best_model = grid_lgb.fit(X_train_n, y_train)\n",
        "\n",
        "# View best hyperparameters\n",
        "grid_lgb.best_params_"
      ],
      "metadata": {
        "colab": {
          "base_uri": "https://localhost:8080/"
        },
        "id": "LgSX_r8_-wkX",
        "outputId": "1ff6e623-c1c8-4587-f8b7-a997872a5dc6"
      },
      "execution_count": 19,
      "outputs": [
        {
          "output_type": "execute_result",
          "data": {
            "text/plain": [
              "{'learning_rate': 0.1, 'max_depth': -1, 'num_leaves': 31}"
            ]
          },
          "metadata": {},
          "execution_count": 19
        }
      ]
    },
    {
      "cell_type": "code",
      "source": [
        "# Build confusion matrix and calculate other indicators\n",
        "grid_predictions = grid_lgb.predict(X_test_n)\n",
        "print(confusion_matrix(y_test, grid_predictions))\n",
        "print(classification_report(y_test, grid_predictions))"
      ],
      "metadata": {
        "colab": {
          "base_uri": "https://localhost:8080/"
        },
        "id": "U1Tv174N-wnM",
        "outputId": "eb41f348-c15f-4296-cb67-744f1de954e1"
      },
      "execution_count": 20,
      "outputs": [
        {
          "output_type": "stream",
          "name": "stdout",
          "text": [
            "[[859  27]\n",
            " [ 36 597]]\n",
            "              precision    recall  f1-score   support\n",
            "\n",
            "           0       0.96      0.97      0.96       886\n",
            "           1       0.96      0.94      0.95       633\n",
            "\n",
            "    accuracy                           0.96      1519\n",
            "   macro avg       0.96      0.96      0.96      1519\n",
            "weighted avg       0.96      0.96      0.96      1519\n",
            "\n"
          ]
        }
      ]
    },
    {
      "cell_type": "code",
      "source": [
        "#define metrics\n",
        "y_pred_proba = grid_lgb.predict_proba(X_test_n)[::,1]\n",
        "fpr, tpr, _ = metrics.roc_curve(y_test,  y_pred_proba)\n",
        "\n",
        "#create ROC curve\n",
        "plt.plot(fpr,tpr)\n",
        "plt.ylabel('True Positive Rate')\n",
        "plt.xlabel('False Positive Rate')\n",
        "plt.show()"
      ],
      "metadata": {
        "colab": {
          "base_uri": "https://localhost:8080/",
          "height": 279
        },
        "id": "6BPwWEhZAgi6",
        "outputId": "bb999a65-69ac-4c57-9c0d-bd4c3c81cc02"
      },
      "execution_count": 21,
      "outputs": [
        {
          "output_type": "display_data",
          "data": {
            "text/plain": [
              "<Figure size 432x288 with 1 Axes>"
            ],
            "image/png": "[encoded data removed]"
          },
          "metadata": {
            "needs_background": "light"
          }
        }
      ]
    },
    {
      "cell_type": "markdown",
      "source": [
        "Based on the ROC curve, you can see that the LightGBM model is very good at identifying spam emails, however, we didn't consider the cost of misclassification. Next, we'll try to use 10:1 cost ratio for different misclassification errors. 270+36 / 1519"
      ],
      "metadata": {
        "id": "Qnmp8z1SB-IU"
      }
    },
    {
      "cell_type": "markdown",
      "source": [
        "# Building cost-sensitive prediction models"
      ],
      "metadata": {
        "id": "-Tn4nyJtB1HF"
      }
    },
    {
      "cell_type": "code",
      "source": [
        "def cost_func(y_true, y_pred):\n",
        "    matrix = confusion_matrix(y_true, y_pred)\n",
        "    cost = matrix[0][1] * 10 + matrix[1][0] * 1\n",
        "    return cost"
      ],
      "metadata": {
        "id": "lCcLL9g2B8bn"
      },
      "execution_count": 22,
      "outputs": []
    },
    {
      "cell_type": "code",
      "source": [
        "scoring = make_scorer(cost_func, greater_is_better= False)\n",
        "cost_score = {'tree':{},'logistic':{},'knn':{},'svm':{}, 'lgb':{}}"
      ],
      "metadata": {
        "id": "PCWUteqNEczF"
      },
      "execution_count": 23,
      "outputs": []
    },
    {
      "cell_type": "markdown",
      "source": [
        "Nested CV"
      ],
      "metadata": {
        "id": "M2I7rePuGDXD"
      }
    },
    {
      "cell_type": "code",
      "source": [
        "# Choose cross-validation techniques for the inner and outer loops, independently of the dataset\n",
        "inner_cv = KFold(n_splits=4, shuffle=True, random_state=42)\n",
        "outer_cv = KFold(n_splits=4, shuffle=True, random_state=42)"
      ],
      "metadata": {
        "id": "AGJ0fMnUGFnA"
      },
      "execution_count": 24,
      "outputs": []
    },
    {
      "cell_type": "code",
      "source": [
        "# Set up possible values of parameters for each model to optimize\n",
        "tree = DecisionTreeClassifier()\n",
        "param_dict_tree = {'criterion':['gini','entropy'], 'max_depth':range(1,10), \n",
        "                   'min_samples_leaf':range(1,5), 'min_samples_split':range(1,10)} \n",
        "\n",
        "knn =  KNeighborsClassifier()\n",
        "param_dict_knn = {'n_neighbors':list(range(1,31)), 'weights':['uniform', 'distance']}\n",
        "\n",
        "log = LogisticRegression()\n",
        "param_dict_log = {'C':[0.0001,0.001, 0.01, 1, 0.1, 10, 100, 1000], 'penalty':['l1','l2']}\n",
        "\n",
        "svm = SVC()\n",
        "param_dict_svm = {'C':[0.1,1,100], 'kernel':['rbf','linear','poly','sigmoid'], 'gamma':[1, 0.1, 0.01]}\n",
        "\n",
        "lgb = LGBMClassifier()\n",
        "param_dict_lgb = {'max_depth':[-1],'num_leaves':[22, 31],'learning_rate':[0.05,0.1,0.3]}"
      ],
      "metadata": {
        "id": "ca_s6WMxGFpb"
      },
      "execution_count": 25,
      "outputs": []
    },
    {
      "cell_type": "code",
      "source": [
        "clf_tree = GridSearchCV(estimator=tree, param_grid=param_dict_tree, scoring = scoring, cv=inner_cv)\n",
        "clf_knn = GridSearchCV(estimator=knn, param_grid=param_dict_knn, scoring = scoring, cv=inner_cv)\n",
        "clf_log = GridSearchCV(estimator=log, param_grid=param_dict_log, scoring = scoring, cv=inner_cv)\n",
        "clf_svm = GridSearchCV(estimator=svm, param_grid=param_dict_svm, scoring = scoring, cv=inner_cv)\n",
        "clf_lgb = GridSearchCV(estimator=lgb, param_grid=param_dict_lgb, scoring = scoring, cv=inner_cv)\n",
        "\n",
        "score_tree = cross_val_score(clf_tree, X=X_train_n, y=y_train, cv=outer_cv)\n",
        "score_knn = cross_val_score(clf_knn, X=X_train_n, y=y_train, cv=outer_cv)\n",
        "score_log = cross_val_score(clf_log, X=X_train_n, y=y_train, cv=outer_cv)\n",
        "score_svm = cross_val_score(clf_svm, X=X_train_n, y=y_train, cv=outer_cv)\n",
        "score_lgb = cross_val_score(clf_lgb, X=X_train_n, y=y_train, cv=outer_cv)"
      ],
      "metadata": {
        "id": "xWac83SsGMmr"
      },
      "execution_count": 26,
      "outputs": []
    },
    {
      "cell_type": "code",
      "source": [
        "score = {}\n",
        "\n",
        "score['tree'] = score_tree.mean()\n",
        "score['knn'] = score_knn.mean()\n",
        "score['logistic'] = score_log.mean()\n",
        "score['svm'] = score_svm.mean()\n",
        "score['lgb'] = score_lgb.mean()\n",
        "score"
      ],
      "metadata": {
        "colab": {
          "base_uri": "https://localhost:8080/"
        },
        "id": "ONArs8UgGeHY",
        "outputId": "70fe773b-126f-4e9a-fdde-68738ee549c3"
      },
      "execution_count": 27,
      "outputs": [
        {
          "output_type": "execute_result",
          "data": {
            "text/plain": [
              "{'knn': -307.0,\n",
              " 'lgb': -208.5,\n",
              " 'logistic': -279.75,\n",
              " 'svm': -240.25,\n",
              " 'tree': -266.0}"
            ]
          },
          "metadata": {},
          "execution_count": 27
        }
      ]
    },
    {
      "cell_type": "markdown",
      "source": [
        "Result: we can see outcomes from nested CV that when we consider the class wights, LightGBM would get the lowest cost . Hence we'll use LightGBM to proceed"
      ],
      "metadata": {
        "id": "t3Zt9vivHx1l"
      }
    },
    {
      "cell_type": "markdown",
      "source": [
        "# LightGBM"
      ],
      "metadata": {
        "id": "69GkZ8zWINKJ"
      }
    },
    {
      "cell_type": "code",
      "source": [
        "param_dict_lgb = {'max_depth':[-1],'num_leaves':[22, 31],'learning_rate':[0.05,0.1,0.3]}\n",
        "lgb = LGBMClassifier()\n",
        "\n",
        "# Create grid search using 5-fold cross validation\n",
        "grid_lgb = GridSearchCV(lgb, param_dict_lgb, cv=5, verbose=0, scoring = scoring)\n",
        "\n",
        "# Fit grid search\n",
        "best_model = grid_lgb.fit(X_train_n, y_train)\n",
        "\n",
        "# View best hyperparameters\n",
        "grid_lgb.best_params_"
      ],
      "metadata": {
        "colab": {
          "base_uri": "https://localhost:8080/"
        },
        "id": "iWFyrOuKIQbW",
        "outputId": "b9198865-0a87-40a0-d124-c3851d61d610"
      },
      "execution_count": 28,
      "outputs": [
        {
          "output_type": "execute_result",
          "data": {
            "text/plain": [
              "{'learning_rate': 0.3, 'max_depth': -1, 'num_leaves': 31}"
            ]
          },
          "metadata": {},
          "execution_count": 28
        }
      ]
    },
    {
      "cell_type": "code",
      "source": [
        "# Build confusion matrix and calculate other indicators\n",
        "grid_predictions = grid_lgb.predict(X_test_n)\n",
        "print(confusion_matrix(y_test, grid_predictions))\n",
        "print(classification_report(y_test, grid_predictions))"
      ],
      "metadata": {
        "colab": {
          "base_uri": "https://localhost:8080/"
        },
        "id": "Uz4nCEoqIVxy",
        "outputId": "2e0e75ce-5325-4717-97e3-25746d4a43bf"
      },
      "execution_count": 29,
      "outputs": [
        {
          "output_type": "stream",
          "name": "stdout",
          "text": [
            "[[852  34]\n",
            " [ 30 603]]\n",
            "              precision    recall  f1-score   support\n",
            "\n",
            "           0       0.97      0.96      0.96       886\n",
            "           1       0.95      0.95      0.95       633\n",
            "\n",
            "    accuracy                           0.96      1519\n",
            "   macro avg       0.96      0.96      0.96      1519\n",
            "weighted avg       0.96      0.96      0.96      1519\n",
            "\n"
          ]
        }
      ]
    },
    {
      "cell_type": "code",
      "source": [
        "#define metrics\n",
        "y_pred_proba = grid_lgb.predict_proba(X_test_n)[::,1]\n",
        "fpr, tpr, _ = metrics.roc_curve(y_test,  y_pred_proba)\n",
        "\n",
        "#create ROC curve\n",
        "plt.plot(fpr,tpr)\n",
        "plt.ylabel('True Positive Rate')\n",
        "plt.xlabel('False Positive Rate')\n",
        "plt.show()"
      ],
      "metadata": {
        "colab": {
          "base_uri": "https://localhost:8080/",
          "height": 279
        },
        "id": "e91dvTyuIWXs",
        "outputId": "14c3a6f0-5db9-4ba5-b087-fbfd053e64cf"
      },
      "execution_count": 30,
      "outputs": [
        {
          "output_type": "display_data",
          "data": {
            "text/plain": [
              "<Figure size 432x288 with 1 Axes>"
            ],
            "image/png": "[encoded data removed]"
          },
          "metadata": {
            "needs_background": "light"
          }
        }
      ]
    },
    {
      "cell_type": "code",
      "source": [
        "!pip install scikit-plot\n",
        "import scikitplot as skplt\n",
        "y_score_log = grid_lgb.predict_proba(X_test_n)\n",
        "\n",
        "# Lift Curve\n",
        "skplt.metrics.plot_lift_curve(y_test, y_score_log)\n",
        "plt.show()"
      ],
      "metadata": {
        "colab": {
          "base_uri": "https://localhost:8080/",
          "height": 587
        },
        "id": "YePSO2NNJAeZ",
        "outputId": "9f65e1d4-37a7-487e-ed74-f5127e01a1b9"
      },
      "execution_count": 31,
      "outputs": [
        {
          "output_type": "stream",
          "name": "stdout",
          "text": [
            "Collecting scikit-plot\n",
            "  Downloading scikit_plot-0.3.7-py3-none-any.whl (33 kB)\n",
            "Requirement already satisfied: joblib>=0.10 in /usr/local/lib/python3.7/dist-packages (from scikit-plot) (1.1.0)\n",
            "Requirement already satisfied: scipy>=0.9 in /usr/local/lib/python3.7/dist-packages (from scikit-plot) (1.4.1)\n",
            "Requirement already satisfied: scikit-learn>=0.18 in /usr/local/lib/python3.7/dist-packages (from scikit-plot) (1.0.2)\n",
            "Requirement already satisfied: matplotlib>=1.4.0 in /usr/local/lib/python3.7/dist-packages (from scikit-plot) (3.2.2)\n",
            "Requirement already satisfied: numpy>=1.11 in /usr/local/lib/python3.7/dist-packages (from matplotlib>=1.4.0->scikit-plot) (1.21.5)\n",
            "Requirement already satisfied: cycler>=0.10 in /usr/local/lib/python3.7/dist-packages (from matplotlib>=1.4.0->scikit-plot) (0.11.0)\n",
            "Requirement already satisfied: python-dateutil>=2.1 in /usr/local/lib/python3.7/dist-packages (from matplotlib>=1.4.0->scikit-plot) (2.8.2)\n",
            "Requirement already satisfied: pyparsing!=2.0.4,!=2.1.2,!=2.1.6,>=2.0.1 in /usr/local/lib/python3.7/dist-packages (from matplotlib>=1.4.0->scikit-plot) (3.0.7)\n",
            "Requirement already satisfied: kiwisolver>=1.0.1 in /usr/local/lib/python3.7/dist-packages (from matplotlib>=1.4.0->scikit-plot) (1.4.0)\n",
            "Requirement already satisfied: typing-extensions in /usr/local/lib/python3.7/dist-packages (from kiwisolver>=1.0.1->matplotlib>=1.4.0->scikit-plot) (3.10.0.2)\n",
            "Requirement already satisfied: six>=1.5 in /usr/local/lib/python3.7/dist-packages (from python-dateutil>=2.1->matplotlib>=1.4.0->scikit-plot) (1.15.0)\n",
            "Requirement already satisfied: threadpoolctl>=2.0.0 in /usr/local/lib/python3.7/dist-packages (from scikit-learn>=0.18->scikit-plot) (3.1.0)\n",
            "Installing collected packages: scikit-plot\n",
            "Successfully installed scikit-plot-0.3.7\n"
          ]
        },
        {
          "output_type": "display_data",
          "data": {
            "text/plain": [
              "<Figure size 432x288 with 1 Axes>"
            ],
            "image/png": "[encoded data removed]"
          },
          "metadata": {
            "needs_background": "light"
          }
        }
      ]
    },
    {
      "cell_type": "markdown",
      "source": [
        "Conclusion: LightGBM got a 0.95 recall and 0.96 accuracy which show the great performance of this model. ROC curve can also support this finding, that is to say, the more the curve hugs the top left corner of the plot, the better the model does at classifying the data into categories. Finally, we use lift curve as visual aid for measuring model performance. And it shows a great area between the curve and baseline, which means the model is well-performed.¶"
      ],
      "metadata": {
        "id": "Xtai_IdiRySl"
      }
    },
    {
      "cell_type": "code",
      "source": [
        ""
      ],
      "metadata": {
        "id": "R-Yl9XT0l4rV"
      },
      "execution_count": 31,
      "outputs": []
    }
  ]
}